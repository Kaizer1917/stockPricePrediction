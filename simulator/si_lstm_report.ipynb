{
 "cells": [
  {
   "cell_type": "code",
   "execution_count": 1,
   "id": "initial_id",
   "metadata": {
    "collapsed": true,
    "ExecuteTime": {
     "end_time": "2024-04-26T17:07:55.029594Z",
     "start_time": "2024-04-26T17:07:54.082402Z"
    }
   },
   "outputs": [],
   "source": [
    "import pandas as pd\n",
    "import matplotlib.pylab as plt"
   ]
  },
  {
   "cell_type": "code",
   "outputs": [
    {
     "data": {
      "text/plain": "                  time  Actual  Forecast   avg_price  Forecast_20\n0  2025-05-27 16:28:10       0         0  134.750000            0\n1  2025-05-27 16:28:11       0         0  133.714286            0\n2  2025-05-27 16:28:12       0         0  132.250000            0\n3  2025-05-27 16:28:13       0         0  130.650000            0\n4  2025-05-27 16:28:14       0         0  132.961538            0",
      "text/html": "<div>\n<style scoped>\n    .dataframe tbody tr th:only-of-type {\n        vertical-align: middle;\n    }\n\n    .dataframe tbody tr th {\n        vertical-align: top;\n    }\n\n    .dataframe thead th {\n        text-align: right;\n    }\n</style>\n<table border=\"1\" class=\"dataframe\">\n  <thead>\n    <tr style=\"text-align: right;\">\n      <th></th>\n      <th>time</th>\n      <th>Actual</th>\n      <th>Forecast</th>\n      <th>avg_price</th>\n      <th>Forecast_20</th>\n    </tr>\n  </thead>\n  <tbody>\n    <tr>\n      <th>0</th>\n      <td>2025-05-27 16:28:10</td>\n      <td>0</td>\n      <td>0</td>\n      <td>134.750000</td>\n      <td>0</td>\n    </tr>\n    <tr>\n      <th>1</th>\n      <td>2025-05-27 16:28:11</td>\n      <td>0</td>\n      <td>0</td>\n      <td>133.714286</td>\n      <td>0</td>\n    </tr>\n    <tr>\n      <th>2</th>\n      <td>2025-05-27 16:28:12</td>\n      <td>0</td>\n      <td>0</td>\n      <td>132.250000</td>\n      <td>0</td>\n    </tr>\n    <tr>\n      <th>3</th>\n      <td>2025-05-27 16:28:13</td>\n      <td>0</td>\n      <td>0</td>\n      <td>130.650000</td>\n      <td>0</td>\n    </tr>\n    <tr>\n      <th>4</th>\n      <td>2025-05-27 16:28:14</td>\n      <td>0</td>\n      <td>0</td>\n      <td>132.961538</td>\n      <td>0</td>\n    </tr>\n  </tbody>\n</table>\n</div>"
     },
     "execution_count": 53,
     "metadata": {},
     "output_type": "execute_result"
    }
   ],
   "source": [
    "# 加载数据\n",
    "file_path = '/Users/fanxinwei/Desktop/code/git_repo/dsmp-2024-group20/input_data/test_predictions_comparison(10).csv'\n",
    "file_path_20 = '/Users/fanxinwei/Desktop/code/git_repo/dsmp-2024-group20/input_data/test_predictions_comparison(20).csv'\n",
    "data = pd.read_csv(file_path)\n",
    "data_20 = pd.read_csv(file_path_20)\n",
    "# get Forecast of data_20 and insert it into data\n",
    "data['Forecast_20'] = data_20['Forecast']\n",
    "data.head(5)\n",
    "# 0平稳1上升2下降"
   ],
   "metadata": {
    "collapsed": false,
    "ExecuteTime": {
     "end_time": "2024-04-26T18:29:59.385251Z",
     "start_time": "2024-04-26T18:29:58.518824Z"
    }
   },
   "id": "d62260f20859c371",
   "execution_count": 53
  },
  {
   "cell_type": "code",
   "outputs": [],
   "source": [
    "# get first 1000 rows and make it into 10 dataframes\n",
    "data_list = []\n",
    "periods = 10\n",
    "for i in range(periods):\n",
    "    data_list.append(data.iloc[i*100:(i+1)*100])"
   ],
   "metadata": {
    "collapsed": false,
    "ExecuteTime": {
     "end_time": "2024-04-26T19:33:32.752679Z",
     "start_time": "2024-04-26T19:33:32.745574Z"
    }
   },
   "id": "5f7b7aaef537826e",
   "execution_count": 102
  },
  {
   "cell_type": "code",
   "outputs": [],
   "source": [
    "# 初始资金\n",
    "initial_funds = 10000\n",
    "# 资金\n",
    "funds = initial_funds\n",
    "# 股数\n",
    "stocks = 0\n",
    "# 买卖点\n",
    "buy_sell_points = []"
   ],
   "metadata": {
    "collapsed": false,
    "ExecuteTime": {
     "end_time": "2024-04-26T19:51:48.483872Z",
     "start_time": "2024-04-26T19:51:48.469471Z"
    }
   },
   "id": "852a48460d56da81",
   "execution_count": 112
  },
  {
   "cell_type": "code",
   "outputs": [],
   "source": [
    "# 交易策略 \n",
    "# 假设df是包含你数据的DataFrame\n",
    "def trade_strategy(trade_data, funds, stocks, buy_sell_points):\n",
    "    final_funds = 0\n",
    "    profit = 0\n",
    "    for index, row in trade_data.iterrows():\n",
    "        forecast = row['Forecast']\n",
    "        price = row['avg_price']\n",
    "        \n",
    "        if forecast == 1 and funds >= price:  # 有足够资金买入时\n",
    "            # 买入一股股票\n",
    "            stocks += 1\n",
    "            funds -= price  # 更新剩余资金\n",
    "            buy_sell_points.append((row['time'], 'buy'))\n",
    "            \n",
    "        elif forecast == 2 and stocks > 0:  # 有股票可卖出时\n",
    "            # 卖出一股股票\n",
    "            stocks -= 1\n",
    "            funds += price  # 更新资金\n",
    "            buy_sell_points.append((row['time'], 'sell'))\n",
    "            \n",
    "        # 计算最终资金，考虑剩余的股票价值\n",
    "    final_funds = funds + stocks * trade_data.iloc[-1]['avg_price']\n",
    "    profit = final_funds - initial_funds  # 盈亏计算\n",
    "    return final_funds, profit"
   ],
   "metadata": {
    "collapsed": false,
    "ExecuteTime": {
     "end_time": "2024-04-26T19:33:33.888741Z",
     "start_time": "2024-04-26T19:33:33.876785Z"
    }
   },
   "id": "a85a3e9fc09dbde0",
   "execution_count": 104
  },
  {
   "cell_type": "code",
   "outputs": [
    {
     "name": "stdout",
     "output_type": "stream",
     "text": [
      "Final funds: $11512.551659573443\n",
      "Profit: $1512.5516595734427\n",
      "Profit rate: 15.13%\n",
      "action\n",
      "buy     26.6\n",
      "sell    22.1\n",
      "Name: count, dtype: float64\n"
     ]
    }
   ],
   "source": [
    "avg_profit = 0\n",
    "avg_final_funds = 0\n",
    "for i in range(periods):\n",
    "    final_funds,profit = trade_strategy(data_list[i], initial_funds, stocks, buy_sell_points)\n",
    "    avg_profit += profit\n",
    "    avg_final_funds += final_funds\n",
    "    \n",
    "avg_profit /= periods\n",
    "avg_final_funds /= periods\n",
    "print(\"Final funds: ${}\".format(avg_final_funds))\n",
    "print(\"Profit: ${}\".format(avg_profit))\n",
    "# compute the profit rate\n",
    "profit_rate = avg_profit / initial_funds\n",
    "print(\"Profit rate: {:.2%}\".format(profit_rate))\n",
    "# get how many times we buy and sell separately\n",
    "buy_sell_points_df = pd.DataFrame(buy_sell_points, columns=['time', 'action'])\n",
    "print(buy_sell_points_df['action'].value_counts()/periods)"
   ],
   "metadata": {
    "collapsed": false,
    "ExecuteTime": {
     "end_time": "2024-04-26T19:33:34.521608Z",
     "start_time": "2024-04-26T19:33:34.481325Z"
    }
   },
   "id": "cbdc4fe93c8b8dfa",
   "execution_count": 105
  },
  {
   "cell_type": "code",
   "outputs": [],
   "source": [
    "def trade_strategy_1020(trade_data, funds, stocks, buy_sell_points):\n",
    "    stocks = 0\n",
    "    for index, row in trade_data.iterrows():\n",
    "        forecast = row['Forecast']\n",
    "        price = row['avg_price']\n",
    "        forecast20 = row['Forecast_20']\n",
    "        \n",
    "        if ((forecast == 0 and forecast20 == 0)) and funds >= price:\n",
    "            pass\n",
    "        elif (forecast == 1 and forecast20 == 1) and funds >= 5 * price:  \n",
    "            stocks += 5\n",
    "            funds -= 5 * price  # 更新剩余资金\n",
    "            buy_sell_points.append((row['time'], 'buy'))\n",
    "        elif forecast == 2 and forecast20 == 2:  \n",
    "            if stocks >= 5:\n",
    "                stocks -= 5\n",
    "                funds += 5 * price  # 更新资金\n",
    "            else:\n",
    "                stocks = 0\n",
    "                funds += stocks * price\n",
    "            buy_sell_points.append((row['time'], 'sell'))\n",
    "        elif (forecast == 0 and forecast20 == 1) and funds >= 2 * price:\n",
    "            stocks += 2\n",
    "            funds -= 2 * price  # 更新资金\n",
    "            buy_sell_points.append((row['time'], 'buy'))\n",
    "        elif (forecast == 0 and forecast20 == 2):  \n",
    "            if stocks >= 2:\n",
    "                stocks -= 2\n",
    "                funds += 2 * price  # 更新资金\n",
    "            else:\n",
    "                stocks = 0\n",
    "                funds += stocks * price\n",
    "            buy_sell_points.append((row['time'], 'sell'))\n",
    "        elif (((forecast == 1 and forecast20 == 0)\n",
    "              or (forecast == 2 and forecast20 == 1)) and funds >= 1 * price):\n",
    "            stocks += 1\n",
    "            funds -= 1 * price  # 更新资金\n",
    "            buy_sell_points.append((row['time'], 'buy'))\n",
    "        elif ((forecast == 2 and forecast20 == 0) \n",
    "              or (forecast == 1 and forecast20 == 2))  and stocks >= 1:  \n",
    "            stocks -= 1\n",
    "            funds += 1 * price  # 更新资金\n",
    "            buy_sell_points.append((row['time'], 'sell'))\n",
    "\n",
    "    # 计算最终资金，考虑剩余的股票价值\n",
    "    final_funds = funds + stocks * trade_data.iloc[-1]['avg_price']\n",
    "    profit = final_funds - initial_funds  # 盈亏计算\n",
    "    return final_funds, profit"
   ],
   "metadata": {
    "collapsed": false,
    "ExecuteTime": {
     "end_time": "2024-04-26T19:51:52.755173Z",
     "start_time": "2024-04-26T19:51:52.749169Z"
    }
   },
   "id": "a7d833bd919cb133",
   "execution_count": 113
  },
  {
   "cell_type": "code",
   "outputs": [
    {
     "name": "stdout",
     "output_type": "stream",
     "text": [
      "Final funds: $17496.243240085074\n",
      "Profit: $7496.2432400850785\n",
      "Profit rate: 74.96%\n",
      "action\n",
      "buy     37.7\n",
      "sell    29.8\n",
      "Name: count, dtype: float64\n"
     ]
    }
   ],
   "source": [
    "buy_sell_points = []\n",
    "avg_profit = 0\n",
    "avg_final_funds = 0\n",
    "for i in range(periods):\n",
    "    final_funds, profit = trade_strategy_1020(data_list[i], initial_funds, stocks, buy_sell_points)\n",
    "    avg_profit += profit\n",
    "    avg_final_funds += final_funds\n",
    "avg_profit /= periods\n",
    "avg_final_funds /= periods\n",
    "print(\"Final funds: ${}\".format(avg_final_funds))\n",
    "print(\"Profit: ${}\".format(avg_profit))\n",
    "# compute the profit rate\n",
    "profit_rate = avg_profit / initial_funds\n",
    "print(\"Profit rate: {:.2%}\".format(profit_rate))\n",
    "buy_sell_points_df = pd.DataFrame(buy_sell_points, columns=['time', 'action'])\n",
    "print(buy_sell_points_df['action'].value_counts()/periods)"
   ],
   "metadata": {
    "collapsed": false,
    "ExecuteTime": {
     "end_time": "2024-04-26T19:51:53.593983Z",
     "start_time": "2024-04-26T19:51:53.551657Z"
    }
   },
   "id": "cd807cfde5943147",
   "execution_count": 114
  },
  {
   "cell_type": "code",
   "outputs": [],
   "source": [],
   "metadata": {
    "collapsed": false
   },
   "id": "3335e4ddbf38ff3f"
  }
 ],
 "metadata": {
  "kernelspec": {
   "name": "text_analytics",
   "language": "python",
   "display_name": "text_analytics"
  },
  "language_info": {
   "codemirror_mode": {
    "name": "ipython",
    "version": 2
   },
   "file_extension": ".py",
   "mimetype": "text/x-python",
   "name": "python",
   "nbconvert_exporter": "python",
   "pygments_lexer": "ipython2",
   "version": "2.7.6"
  }
 },
 "nbformat": 4,
 "nbformat_minor": 5
}
